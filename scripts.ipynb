{
 "cells": [
  {
   "cell_type": "code",
   "execution_count": 1,
   "id": "9d05dc77-574e-4c78-8068-6c143d3143ce",
   "metadata": {},
   "outputs": [],
   "source": [
    "#Say \"Hello, World!\" With Python"
   ]
  },
  {
   "cell_type": "code",
   "execution_count": 2,
   "id": "56930665-3911-4ad0-913f-79324dd94766",
   "metadata": {},
   "outputs": [
    {
     "name": "stdout",
     "output_type": "stream",
     "text": [
      "Hello, World!\n"
     ]
    }
   ],
   "source": [
    "print(\"Hello, World!\")"
   ]
  },
  {
   "cell_type": "code",
   "execution_count": null,
   "id": "8877fb5a-ac18-4dbd-8207-3e96f173b9d1",
   "metadata": {},
   "outputs": [],
   "source": [
    "#Python If-Else"
   ]
  },
  {
   "cell_type": "code",
   "execution_count": null,
   "id": "4b5f5c99-db50-42cb-a9cd-ff356e3a59b3",
   "metadata": {},
   "outputs": [],
   "source": [
    "import math\n",
    "import os\n",
    "import random\n",
    "import re\n",
    "import sys\n",
    "\n",
    "if __name__ == '__main__':\n",
    "    n = int(input().strip())\n",
    "    if n%2 ==0:\n",
    "        if n in range(2,6):\n",
    "            print ('Not Weird')\n",
    "        elif n in range (6,21):\n",
    "            print ('Weird')\n",
    "        elif n>20:\n",
    "            print('Not Weird')\n",
    "    elif n%2 != 0:\n",
    "        print('Weird')"
   ]
  },
  {
   "cell_type": "code",
   "execution_count": null,
   "id": "e476ea16-65d1-4419-af68-8a8c09cfad61",
   "metadata": {},
   "outputs": [],
   "source": [
    "#Arithmetic Operators"
   ]
  },
  {
   "cell_type": "code",
   "execution_count": null,
   "id": "5b47f9b9-915f-405f-95d6-9bd26f766785",
   "metadata": {},
   "outputs": [],
   "source": [
    "if __name__ == '__main__':\n",
    "    a = int(input())\n",
    "    b = int(input())\n",
    "    \n",
    "    print (a+b)\n",
    "    print(a-b)\n",
    "    print(a*b)"
   ]
  },
  {
   "cell_type": "code",
   "execution_count": null,
   "id": "bae451f2-f596-4141-9e21-d962d7c8db8f",
   "metadata": {},
   "outputs": [],
   "source": [
    "#Python: Division"
   ]
  },
  {
   "cell_type": "code",
   "execution_count": null,
   "id": "56fd1647-11a3-4c66-b47d-77329818bf24",
   "metadata": {},
   "outputs": [],
   "source": [
    "if __name__ == '__main__':\n",
    "    a = int(input())\n",
    "    b = int(input())\n",
    "    print(a//b)\n",
    "    print(a/b)"
   ]
  },
  {
   "cell_type": "code",
   "execution_count": null,
   "id": "4d2fb2c5-8f5d-4eff-9d5a-0890c1442135",
   "metadata": {},
   "outputs": [],
   "source": [
    "#Loops"
   ]
  },
  {
   "cell_type": "code",
   "execution_count": null,
   "id": "79dc3281-fcfb-4c3a-ae9b-493ade837e8f",
   "metadata": {},
   "outputs": [],
   "source": [
    "if __name__ == '__main__':\n",
    "    n = int(input())\n",
    "    indice = 0\n",
    "    for indice in range(n):\n",
    "        print (indice**2)"
   ]
  },
  {
   "cell_type": "code",
   "execution_count": null,
   "id": "14170dc8-4cc8-4202-b888-a35f5becf48b",
   "metadata": {},
   "outputs": [],
   "source": [
    "#Write a function"
   ]
  },
  {
   "cell_type": "code",
   "execution_count": null,
   "id": "ebe3a760-e62a-4268-937e-159e38a45721",
   "metadata": {},
   "outputs": [],
   "source": [
    "def is_leap(year):\n",
    "    leap = False\n",
    "    if year % 4 == 0:\n",
    "        if year % 100 == 0 and year % 400!=0:\n",
    "            leap = False\n",
    "        else:\n",
    "            leap = True\n",
    "    return leap\n",
    "\n",
    "year = int(input())\n",
    "print(is_leap(year))"
   ]
  },
  {
   "cell_type": "code",
   "execution_count": null,
   "id": "41bd3561-c3a4-4cd8-9a11-30283fa8eb69",
   "metadata": {},
   "outputs": [],
   "source": [
    "#Print Function"
   ]
  },
  {
   "cell_type": "code",
   "execution_count": null,
   "id": "158a1bf6-5c71-4ca4-922c-4dba3f9d7a88",
   "metadata": {},
   "outputs": [],
   "source": [
    "if __name__ == '__main__':\n",
    "    n = int(input())\n",
    "    stringa=''\n",
    "    for i in range(1,n+1):\n",
    "        stringa+=str(i)\n",
    "    print(stringa)"
   ]
  },
  {
   "cell_type": "code",
   "execution_count": null,
   "id": "d1571198-ca13-436b-b5e8-e8a63803aec5",
   "metadata": {},
   "outputs": [],
   "source": [
    "#List Comprehensions"
   ]
  },
  {
   "cell_type": "code",
   "execution_count": null,
   "id": "a9a07f48-4294-4ebb-9a9f-e87feddf4e75",
   "metadata": {},
   "outputs": [],
   "source": [
    "if __name__ == '__main__':\n",
    "    x = int(input())\n",
    "    y = int(input())\n",
    "    z = int(input())\n",
    "    n = int(input())"
   ]
  },
  {
   "cell_type": "code",
   "execution_count": null,
   "id": "b53e7e85-2af7-468a-988e-23aa53493be4",
   "metadata": {},
   "outputs": [],
   "source": [
    "#Find the Runner-Up Score!"
   ]
  },
  {
   "cell_type": "code",
   "execution_count": null,
   "id": "3e4824ac-52a4-46ee-98c9-cbcdd8569012",
   "metadata": {},
   "outputs": [],
   "source": [
    "if __name__ == '__main__':\n",
    "    n = int(input())\n",
    "    arr = map(int, input().split())\n"
   ]
  },
  {
   "cell_type": "code",
   "execution_count": null,
   "id": "6effc480-575f-4c29-9879-8362104496bc",
   "metadata": {},
   "outputs": [],
   "source": [
    "#Nested Lists"
   ]
  },
  {
   "cell_type": "code",
   "execution_count": null,
   "id": "a5ed2f7e-5f17-4154-963a-e477e91a9c34",
   "metadata": {},
   "outputs": [],
   "source": [
    "if __name__ == '__main__':\n",
    "    nlist = []\n",
    "    for _ in range(int(input())):\n",
    "        name = input()\n",
    "        score = float(input())\n",
    "        if _ == 0:\n",
    "            minimo = score\n",
    "            massimo = score\n",
    "\n",
    "        nlist.append([name, score])\n",
    "    \n",
    "        if score < minimo: \n",
    "            minimo = score\n",
    "        elif score > massimo:\n",
    "            massimo = score\n",
    "    secondo = massimo\n",
    "    for elemento in nlist:\n",
    "   \n",
    "        if elemento[1]< secondo and elemento[1] > minimo:\n",
    "            secondo = elemento[1]\n",
    "    lista2=[ lista[0] for lista in nlist if lista[1] == secondo]\n",
    "    lista2.sort()\n",
    "    for nome in lista2: \n",
    "        print(nome)\n"
   ]
  },
  {
   "cell_type": "code",
   "execution_count": null,
   "id": "8532c5c0-3946-4e72-ac0d-20f2eb73323b",
   "metadata": {},
   "outputs": [],
   "source": [
    "#Finding the percentage"
   ]
  },
  {
   "cell_type": "code",
   "execution_count": null,
   "id": "2c27bab7-aac8-438f-943f-4622f4fbd811",
   "metadata": {},
   "outputs": [],
   "source": [
    "if __name__ == '__main__':\n",
    "    n = int(input())\n",
    "    student_marks = {}\n",
    "    for _ in range(n):\n",
    "        name, *line = input().split()\n",
    "        scores = list(map(float, line))\n",
    "        student_marks[name] = scores\n",
    "    query_name = input()"
   ]
  },
  {
   "cell_type": "code",
   "execution_count": null,
   "id": "4c5857e0-9078-437a-ad21-ea800c9f2f69",
   "metadata": {},
   "outputs": [],
   "source": [
    "#Lists"
   ]
  },
  {
   "cell_type": "code",
   "execution_count": null,
   "id": "661ad159-8500-4692-b13f-755ef9202dfb",
   "metadata": {},
   "outputs": [],
   "source": [
    "if __name__ == '__main__':\n",
    "    N = int(input())\n",
    "    lista = []\n",
    "    for i in range(N):\n",
    "        operazione = input().split()\n",
    "        if operazione[0] == 'insert':\n",
    "            e = int(operazione[2])\n",
    "            i = int(operazione[1])\n",
    "            lista.insert(i,e)\n",
    "        elif operazione[0] == 'print':\n",
    "            print(lista)\n",
    "        elif operazione[0] == 'append':\n",
    "            lista.append(int(operazione[1]))\n",
    "        elif operazione[0] == 'remove':\n",
    "            lista.remove(int(operazione[1]))\n",
    "        elif operazione[0] == 'sort':\n",
    "            lista.sort()\n",
    "        elif operazione[0] == 'pop':\n",
    "            lista.pop()\n",
    "        elif operazione[0] == 'reverse':\n",
    "            lista.reverse()\n",
    "  "
   ]
  },
  {
   "cell_type": "code",
   "execution_count": null,
   "id": "af9125c3-aeef-45c7-8e0f-40769c4be8b5",
   "metadata": {},
   "outputs": [],
   "source": [
    "#Tuples"
   ]
  },
  {
   "cell_type": "code",
   "execution_count": null,
   "id": "262ed8ab-c7bf-4026-9b82-ee0abe665d7d",
   "metadata": {},
   "outputs": [],
   "source": [
    "if __name__ == '__main__':\n",
    "    n = int(input())\n",
    "    student_marks = {}\n",
    "    for _ in range(n):\n",
    "        name, *line = input().split()\n",
    "        scores = list(map(float, line))\n",
    "        student_marks[name] = scores\n",
    "    query_name = input()"
   ]
  },
  {
   "cell_type": "code",
   "execution_count": null,
   "id": "61dfae5b-34b1-4848-ae34-904bb65c7efa",
   "metadata": {},
   "outputs": [],
   "source": [
    "#sWAP cASE"
   ]
  },
  {
   "cell_type": "code",
   "execution_count": null,
   "id": "f21241e5-2f69-4fd2-92a6-3fdafed19981",
   "metadata": {},
   "outputs": [],
   "source": [
    "def swap_case(s):\n",
    "    stringa2=''\n",
    "    for lettera in s:\n",
    "        if lettera.islower(): \n",
    "            lettera = lettera.upper()\n",
    "            stringa2=stringa2 + lettera\n",
    "        elif lettera.isupper():\n",
    "            lettera = lettera.lower()\n",
    "            stringa2=stringa2 + lettera\n",
    "        else:\n",
    "            stringa2=stringa2 + lettera\n",
    "    return stringa2\n",
    "if __name__ == '__main__':\n",
    "    s = input()\n",
    "    result = swap_case(s)\n",
    "    print(result)"
   ]
  },
  {
   "cell_type": "code",
   "execution_count": null,
   "id": "78e40e94-af38-462c-a2d2-f6a1e8eaf90f",
   "metadata": {},
   "outputs": [],
   "source": [
    "#String Split and Join"
   ]
  },
  {
   "cell_type": "code",
   "execution_count": 3,
   "id": "6ec78a24-a1f6-4819-98e2-168e3998ab95",
   "metadata": {},
   "outputs": [
    {
     "name": "stdin",
     "output_type": "stream",
     "text": [
      " sop\n"
     ]
    },
    {
     "name": "stdout",
     "output_type": "stream",
     "text": [
      "sop\n"
     ]
    }
   ],
   "source": [
    "def split_and_join(line):\n",
    "    lista = line.split(' ')\n",
    "    stringa='-'.join(lista)\n",
    "    return stringa\n",
    "if __name__ == '__main__':\n",
    "    line = input()\n",
    "    result = split_and_join(line)\n",
    "    print(result)"
   ]
  },
  {
   "cell_type": "code",
   "execution_count": null,
   "id": "25511f83-482c-4f6b-bf20-19060fdf05dd",
   "metadata": {},
   "outputs": [],
   "source": [
    "#What's Your Name?"
   ]
  },
  {
   "cell_type": "code",
   "execution_count": 4,
   "id": "8faa32ab-d658-4615-b0c4-59e7abc77f5b",
   "metadata": {},
   "outputs": [],
   "source": [
    "def print_full_name(first, last):\n",
    "    stringa ='Hello'+' '+first +' '+last +'! You just delved into python.'\n",
    "    print(stringa)\n",
    "if __name__ == '__main__':\n",
    "    first_name = input()\n",
    "    last_name = input()\n",
    "    print_full_name(first_name, last_name)\n"
   ]
  },
  {
   "cell_type": "code",
   "execution_count": null,
   "id": "531f6070-c382-4acb-9c98-0a8faa145832",
   "metadata": {},
   "outputs": [],
   "source": [
    "#Mutations"
   ]
  },
  {
   "cell_type": "code",
   "execution_count": null,
   "id": "0adbdd39-8721-44bd-8a68-2562d6b61cd5",
   "metadata": {},
   "outputs": [],
   "source": [
    "def mutate_string(string, position, character):\n",
    "    stringa = string[:position]+ character + string[position+1:]\n",
    "    return stringa\n",
    "if __name__ == '__main__':\n",
    "    s = input()\n",
    "    i, c = input().split()\n",
    "    s_new = mutate_string(s, int(i), c)\n",
    "    print(s_new)"
   ]
  },
  {
   "cell_type": "code",
   "execution_count": null,
   "id": "206caf8e-ac23-4043-9a58-f44005a01237",
   "metadata": {},
   "outputs": [],
   "source": [
    "#Find a string"
   ]
  },
  {
   "cell_type": "code",
   "execution_count": null,
   "id": "11a23de4-12b2-4614-be71-0b06903212d0",
   "metadata": {},
   "outputs": [],
   "source": [
    "def count_substring(string, sub_string):\n",
    "    continua = True\n",
    "    count=0\n",
    "    inizio = 0\n",
    "    while continua:\n",
    "        indice = string.find(sub_string, inizio)\n",
    "        if indice!= -1:\n",
    "            count+=1\n",
    "            inizio = indice + 1\n",
    "        else:\n",
    "            continua = False\n",
    "    return count\n",
    "if __name__ == '__main__':\n",
    "    string = input().strip()\n",
    "    sub_string = input().strip()\n",
    "    \n",
    "    count = count_substring(string, sub_string)\n",
    "    print(count)"
   ]
  },
  {
   "cell_type": "code",
   "execution_count": null,
   "id": "2f77a9a2-ebb7-47a0-b20f-4fd335a50126",
   "metadata": {},
   "outputs": [],
   "source": [
    "#String Validators"
   ]
  },
  {
   "cell_type": "code",
   "execution_count": null,
   "id": "79ee508e-cacd-42ec-900e-e5b2d4de54ff",
   "metadata": {},
   "outputs": [],
   "source": [
    "if __name__ == '__main__':\n",
    "    s = input()\n",
    "    ok = False\n",
    "    for lettera in s:\n",
    "        if lettera.isalnum():\n",
    "            ok = True\n",
    "    print(ok)\n",
    "    ok = False\n",
    "    for lettera in s:\n",
    "        if lettera.isalpha():\n",
    "            ok = True\n",
    "    print(ok)\n",
    "    ok = False\n",
    "    for lettera in s:\n",
    "        if lettera.isdigit():\n",
    "            ok = True\n",
    "    print(ok)\n",
    "    ok = False\n",
    "    for lettera in s:\n",
    "        if lettera.islower():\n",
    "            ok = True\n",
    "    print(ok)\n",
    "    ok = False\n",
    "    for lettera in s:\n",
    "        if lettera.isupper():\n",
    "            ok = True\n",
    "    print(ok)\n"
   ]
  },
  {
   "cell_type": "code",
   "execution_count": null,
   "id": "4bc91b58-7a9f-4a14-b329-7a77d635638c",
   "metadata": {},
   "outputs": [],
   "source": [
    "#Text Alignment"
   ]
  },
  {
   "cell_type": "code",
   "execution_count": null,
   "id": "78febcee-ac16-4993-99a0-b931d4dcf972",
   "metadata": {},
   "outputs": [],
   "source": [
    "#Replace all ______ with rjust, ljust or center. \n",
    "\n",
    "thickness = int(input()) #This must be an odd number\n",
    "c = 'H'\n",
    "\n",
    "#Top Cone\n",
    "for i in range(thickness):\n",
    "    print((c*i).rjust(thickness-1)+c+(c*i).ljust(thickness-1))\n",
    "\n",
    "#Top Pillars\n",
    "for i in range(thickness+1):\n",
    "    print((c*thickness).center(thickness*2)+(c*thickness).center(thickness*6))\n",
    "\n",
    "#Middle Belt\n",
    "for i in range((thickness+1)//2):\n",
    "    print((c*thickness*5).center(thickness*6))    \n",
    "\n",
    "#Bottom Pillars\n",
    "for i in range(thickness+1):\n",
    "    print((c*thickness).center(thickness*2)+(c*thickness).center(thickness*6))    \n",
    "\n",
    "#Bottom Cone\n",
    "for i in range(thickness):\n",
    "    print(((c*(thickness-i-1)).rjust(thickness)+c+(c*(thickness-i-1)).ljust(thickness)).rjust(thickness*6))\n"
   ]
  },
  {
   "cell_type": "code",
   "execution_count": null,
   "id": "2aec59c8-db3f-4eb3-a89e-71ac71725cbc",
   "metadata": {},
   "outputs": [],
   "source": [
    "#Text Wrap"
   ]
  },
  {
   "cell_type": "code",
   "execution_count": null,
   "id": "b7362755-8d2f-45dc-bf5c-5bd7d4dd23ec",
   "metadata": {},
   "outputs": [],
   "source": [
    "import textwrap\n",
    "def wrap(string, max_width):\n",
    "    wrapper = textwrap.TextWrapper(width=max_width)\n",
    "    string = wrapper.fill(text=string)\n",
    "    return string\n",
    "\n",
    "if __name__ == '__main__':\n",
    "    string, max_width = input(), int(input())\n",
    "    result = wrap(string, max_width)\n",
    "    print(result)\n"
   ]
  },
  {
   "cell_type": "code",
   "execution_count": null,
   "id": "1927b0f3-ccde-486d-bef7-342367e821d8",
   "metadata": {},
   "outputs": [],
   "source": [
    "#Designer Door Mat"
   ]
  },
  {
   "cell_type": "code",
   "execution_count": null,
   "id": "d52d0015-73f3-40c5-ba57-1f4e757e7b64",
   "metadata": {},
   "outputs": [],
   "source": [
    "# Enter your code here. Read input from STDIN. Print output to STDOUT\n",
    "N,M= map(int, input().split())\n",
    "c='WELCOME'\n",
    "c2='.|.'\n",
    "i2=0\n",
    "for i in range(1,N):\n",
    "    if i <= N//2:\n",
    "        s=i+i2\n",
    "        print((c2*s).center(M,'-'))\n",
    "        i2+=1\n",
    "    elif i == N//2 +1:\n",
    "        print(c.center(M,'-'))\n",
    "s=N//2\n",
    "\n",
    "for i in range(s,0,-1):\n",
    "    r=i+i2-1\n",
    "    print((c2*r).center(M,'-'))\n",
    "    i2-=1\n"
   ]
  },
  {
   "cell_type": "code",
   "execution_count": null,
   "id": "54788485-7b46-4675-9748-2de51f4300ff",
   "metadata": {},
   "outputs": [],
   "source": [
    "#String Formatting"
   ]
  },
  {
   "cell_type": "code",
   "execution_count": null,
   "id": "188d2cd2-2631-49c9-9132-dd868f035cc7",
   "metadata": {},
   "outputs": [],
   "source": [
    "def spazio(number):\n",
    "    binario = bin(number)\n",
    "    count = 0\n",
    "    binario = binario[2:]\n",
    "    for numero in binario:\n",
    "        count+=1\n",
    "    return count\n",
    "\n",
    "def print_formatted(number):\n",
    "    count = spazio(number)\n",
    "    for numero in range(1,number+1):\n",
    "        decimale = str(numero).rjust(count,' ')\n",
    "        octag = str(oct(numero))[2:].rjust(count, ' ')\n",
    "        esa = str(hex(numero)).upper()[2:].rjust(count,' ')\n",
    "        binary = str(bin(numero))[2:].rjust(count,' ')\n",
    "        print(decimale + ' '+ octag + ' '+ esa +' '+ binary)\n",
    "if __name__ == '__main__':\n",
    "    n = int(input())\n",
    "    print_formatted(n)"
   ]
  },
  {
   "cell_type": "code",
   "execution_count": null,
   "id": "f488df0d-b81a-4509-8821-5c4a94b5d402",
   "metadata": {},
   "outputs": [],
   "source": [
    "#Capitalize!"
   ]
  },
  {
   "cell_type": "code",
   "execution_count": null,
   "id": "67b054a8-9daa-4931-8bac-91aed118dd0b",
   "metadata": {},
   "outputs": [],
   "source": [
    "#!/bin/python3\n",
    "\n",
    "import math\n",
    "import os\n",
    "import random\n",
    "import re\n",
    "import sys\n",
    "\n",
    "# Complete the solve function below.\n",
    "\n",
    "def solve(s):\n",
    "    count=0\n",
    "    stringa2=''\n",
    "    for lettera in s:\n",
    "        if count == 0:\n",
    "            lettera = lettera.upper()\n",
    "            stringa2= stringa2 + lettera\n",
    "            count+=1 \n",
    "        elif s[count-1]==' ':\n",
    "            lettera = lettera.upper()\n",
    "            stringa2= stringa2 + lettera\n",
    "            count+=1\n",
    "        else:\n",
    "            stringa2= stringa2 + lettera\n",
    "            count+=1\n",
    "    return stringa2\n",
    "if __name__ == '__main__':\n",
    "    fptr = open(os.environ['OUTPUT_PATH'], 'w')\n",
    "\n",
    "    s = input()\n",
    "\n",
    "    result = solve(s)\n",
    "\n",
    "    fptr.write(result + '\\n')\n",
    "\n",
    "    fptr.close()"
   ]
  },
  {
   "cell_type": "code",
   "execution_count": null,
   "id": "1c29be7a-b7d8-4ab3-80a9-ed442d2a09e6",
   "metadata": {},
   "outputs": [],
   "source": [
    "#The Minion Game"
   ]
  },
  {
   "cell_type": "code",
   "execution_count": null,
   "id": "c41b195c-cfc0-4d92-b28e-ea1c57e61057",
   "metadata": {},
   "outputs": [],
   "source": [
    "def count_substring(string, sub_string):\n",
    "    continua = True\n",
    "    count=0\n",
    "    inizio = 0\n",
    "    while continua:\n",
    "        indice = string.find(sub_string, inizio)\n",
    "        if indice!= -1:\n",
    "            count+=1\n",
    "            inizio = indice + 1\n",
    "        else:\n",
    "            continua = False\n",
    "    return count\n",
    "def stuart(s):\n",
    "    punteggioS=0\n",
    "    trovati=[]\n",
    "    vowels=['A','E','I','O','U']\n",
    "    for indice in range(len(s)):\n",
    "        if s[indice] not in vowels:\n",
    "            if s[indice] not in trovati:\n",
    "                trovati.append(s[indice])\n",
    "                punteggioS+=count_substring(s, s[indice]) \n",
    "            sub=''\n",
    "            sub+=s[indice]\n",
    "            ind3=indice+1\n",
    "            for ind2 in range(ind3,len(s)):\n",
    "                sub+=s[ind2]\n",
    "                if sub not in trovati:\n",
    "                    trovati.append(sub)\n",
    "                    punteggioS+=count_substring(s, sub)               \n",
    "    return punteggioS\n",
    "def kevin(s):\n",
    "    punteggioK=0\n",
    "    vowels=['A','E','I','O','U']\n",
    "    trovati=[]\n",
    "    for indice in range(len(s)):\n",
    "        if s[indice] in vowels:\n",
    "            if s[indice] not in trovati:\n",
    "                trovati.append(s[indice])\n",
    "                punteggioK+=count_substring(s, s[indice]) \n",
    "            sub=''\n",
    "            sub+=s[indice]\n",
    "            ind3=indice+1\n",
    "            for ind2 in range(ind3,len(s)):\n",
    "                sub+=s[ind2]\n",
    "                if sub not in trovati:\n",
    "                    trovati.append(sub)\n",
    "                    punteggioK+=count_substring(s, sub)             \n",
    "    return punteggioK\n",
    "def minion_game(string):\n",
    "    puntS= stuart(string)\n",
    "    puntK= kevin(string)\n",
    "    if puntS>puntK:\n",
    "        print('Stuart '+str(puntS))\n",
    "    elif puntK>puntS:\n",
    "        print('Kevin '+str(puntK))\n",
    "    elif puntK==puntS:\n",
    "        print('Draw')\n",
    "\n",
    "if __name__ == '__main__':\n",
    "    s = input()\n",
    "    minion_game(s)"
   ]
  },
  {
   "cell_type": "code",
   "execution_count": null,
   "id": "600770e8-0cd9-4698-87ae-a4d85f3a2a2f",
   "metadata": {},
   "outputs": [],
   "source": [
    "#Merge the Tools!"
   ]
  },
  {
   "cell_type": "code",
   "execution_count": null,
   "id": "466f7363-7a44-403c-ab82-0d70dc06b3f9",
   "metadata": {},
   "outputs": [],
   "source": [
    "import textwrap\n",
    "def merge_the_tools(string, k):\n",
    "    stringa=''\n",
    "    lista_parole2=[]\n",
    "    wrapper = textwrap.TextWrapper(width=k)\n",
    "    lista_parole= wrapper.wrap(text=string)\n",
    "    for elemento in lista_parole:\n",
    "        for carattere in elemento:\n",
    "            if carattere not in stringa:\n",
    "                stringa = stringa + carattere\n",
    "        lista_parole2.append(stringa)\n",
    "        stringa= ''    \n",
    "    for element in lista_parole2:\n",
    "        print(element)        \n",
    "\n",
    "if __name__ == '__main__':\n",
    "    string, k = input(), int(input())\n",
    "    merge_the_tools(string, k)"
   ]
  },
  {
   "cell_type": "code",
   "execution_count": null,
   "id": "dbd7680a-ad5e-41c5-a51d-7e6b5f32e95f",
   "metadata": {},
   "outputs": [],
   "source": [
    "#Introduction to Sets"
   ]
  },
  {
   "cell_type": "code",
   "execution_count": null,
   "id": "898b4544-245d-43cc-9b98-8f890bdcc5f3",
   "metadata": {},
   "outputs": [],
   "source": [
    "def average(array):\n",
    "    count = 0\n",
    "    somma = 0\n",
    "    insieme = set(array)\n",
    "    for numero in insieme:\n",
    "        count+=1\n",
    "        somma +=numero\n",
    "    avr = round(somma/count, 3)\n",
    "    return avr\n",
    "if __name__ == '__main__':\n",
    "    n = int(input())\n",
    "    arr = list(map(int, input().split()))\n",
    "    result = average(arr)\n",
    "    print(result)"
   ]
  },
  {
   "cell_type": "code",
   "execution_count": null,
   "id": "bf013d6a-4e91-4cfd-898a-f7fb7c2b0776",
   "metadata": {},
   "outputs": [],
   "source": [
    "#No Idea!"
   ]
  },
  {
   "cell_type": "code",
   "execution_count": null,
   "id": "9992c341-2410-47d3-8b3e-a6042bf8a0be",
   "metadata": {},
   "outputs": [],
   "source": [
    "# Enter your code here. Read input from STDIN. Print output to STDOUT\n",
    "import math\n",
    "import os\n",
    "import random\n",
    "import re\n",
    "import sys\n",
    "def happiness(arr, A, B, N):\n",
    "    happy = 0\n",
    "    z=set(arr)\n",
    "    inter=z.intersection(A)\n",
    "    z2=z-inter\n",
    "    inter2=z2.intersection(B)\n",
    "    for elemento in arr:\n",
    "        if elemento in inter:\n",
    "            happy+=1\n",
    "        elif elemento in inter2:\n",
    "            happy-=1\n",
    "            \n",
    "    return happy\n",
    " \n",
    "if __name__ == '__main__':\n",
    "    n,m = map(int, input().split())\n",
    "    arr = list(map(int, input().split()))\n",
    "    A = set(map(int, input().split()))\n",
    "    B = set(map(int, input().split()))\n",
    "    how_happy_I_am = happiness(arr, A, B, n)\n",
    "    print(how_happy_I_am)\n"
   ]
  },
  {
   "cell_type": "code",
   "execution_count": null,
   "id": "83aeb3a3-0f26-41b6-b0b1-696b31088495",
   "metadata": {},
   "outputs": [],
   "source": [
    "#Symmetric Difference"
   ]
  },
  {
   "cell_type": "code",
   "execution_count": null,
   "id": "bd3be6f3-ace4-455e-a26a-0fdb17176326",
   "metadata": {},
   "outputs": [],
   "source": [
    "# Enter your code here. Read input from STDIN. Print output to STDOUT\n",
    "def stampa(set1,set2):\n",
    "    z4=[]\n",
    "    z1=set1.difference(set2)\n",
    "    z2=set2.difference(set1)\n",
    "    z3=z2.union(z1)\n",
    "    z4=list(z3)\n",
    "    z4.sort()\n",
    "    for indice in range(len(z4)):\n",
    "        print(z4[indice]) \n",
    "    \n",
    "if __name__ == '__main__':\n",
    "    n = int(input())\n",
    "    set1 = set(map(int, input().split()))\n",
    "    m = int(input())\n",
    "    set2 = set(map(int, input().split()))\n",
    "    stampa(set1,set2)\n"
   ]
  },
  {
   "cell_type": "code",
   "execution_count": null,
   "id": "b6219b54-6c99-4b74-90d5-ab427635019f",
   "metadata": {},
   "outputs": [],
   "source": [
    "#Set .add()"
   ]
  },
  {
   "cell_type": "code",
   "execution_count": null,
   "id": "7dc393b8-d803-4f66-bf2f-0365148e38a9",
   "metadata": {},
   "outputs": [],
   "source": [
    "# Enter your code here. Read input from STDIN. Print output to STDOUT\n",
    "def conta(arr):\n",
    "    conta_el = len(set1)\n",
    "    #for elemento in set1:\n",
    "     #   conta_el += 1\n",
    "    return conta_el\n",
    "if __name__ == '__main__':\n",
    "    n = int(input())\n",
    "    numero = 0\n",
    "    set1=set()\n",
    "    while numero < n:\n",
    "        elemento = input()\n",
    "        set1.add(elemento)\n",
    "        numero+=1\n",
    "    result =conta(set1)\n",
    "    print (result)\n"
   ]
  },
  {
   "cell_type": "code",
   "execution_count": null,
   "id": "c58c4187-c452-4b44-98d6-d7833da8639f",
   "metadata": {},
   "outputs": [],
   "source": [
    "#Set .discard(), .remove() & .pop()"
   ]
  },
  {
   "cell_type": "code",
   "execution_count": null,
   "id": "dbe43521-fd32-4228-9f1b-ee3721fc0d05",
   "metadata": {},
   "outputs": [],
   "source": [
    "n = int(input())\n",
    "s = set(map(int, input().split()))\n",
    "N = int(input())\n",
    "sum=0\n",
    "for i in range(N):\n",
    "    operazione=input().split()\n",
    "    if operazione[0] == 'remove':\n",
    "        s.remove(int(operazione[1]))\n",
    "    elif operazione[0] == 'pop':\n",
    "        s.pop()\n",
    "    elif operazione[0] == 'discard':\n",
    "        s.discard(int(operazione[1]))\n",
    "for element in s:\n",
    "    sum+=element\n",
    "print(sum)"
   ]
  },
  {
   "cell_type": "code",
   "execution_count": null,
   "id": "9c3ff45d-afe9-4ab7-a457-84f6efbd4ec5",
   "metadata": {},
   "outputs": [],
   "source": [
    "#Set .union() Operation"
   ]
  },
  {
   "cell_type": "code",
   "execution_count": null,
   "id": "adfa4447-aa2b-4d18-bb2f-d04c5db9c733",
   "metadata": {},
   "outputs": [],
   "source": [
    "# Enter your code here. Read input from STDIN. Print output to STDOUT\n",
    "if __name__ == '__main__':\n",
    "    n = int(input())\n",
    "    eng = set(map(int, input().split()))\n",
    "    n = int(input())\n",
    "    fre = set(map(int, input().split()))\n",
    "    result =eng.union(fre)\n",
    "    print(len(result))\n"
   ]
  },
  {
   "cell_type": "code",
   "execution_count": null,
   "id": "4635a16f-e10d-4386-b3ec-fdc024ce4d06",
   "metadata": {},
   "outputs": [],
   "source": [
    "#Set .intersection() Operation"
   ]
  },
  {
   "cell_type": "code",
   "execution_count": null,
   "id": "102fd6bc-de2e-410a-a295-6e1eb7f397a4",
   "metadata": {},
   "outputs": [],
   "source": [
    "# Enter your code here. Read input from STDIN. Print output to STDOUT\n",
    "if __name__ == '__main__':\n",
    "    n = int(input())\n",
    "    set1 = set(map(int, input().split()))\n",
    "    m = int(input())\n",
    "    set2 = set(map(int, input().split()))\n",
    "    result = set1.intersection(set2)\n",
    "    print(len(result))\n"
   ]
  },
  {
   "cell_type": "code",
   "execution_count": null,
   "id": "91ee4483-7d48-47fc-bf35-f9c0788ae669",
   "metadata": {},
   "outputs": [],
   "source": [
    "#Set .difference() Operation"
   ]
  },
  {
   "cell_type": "code",
   "execution_count": null,
   "id": "b55780c6-1598-4542-b2ad-ad8a70c534fc",
   "metadata": {},
   "outputs": [],
   "source": [
    "# Enter your code here. Read input from STDIN. Print output to STDOUT\n",
    "if __name__ == '__main__':\n",
    "    n = int(input())\n",
    "    set1 = set(map(int, input().split()))\n",
    "    m = int(input())\n",
    "    set2 = set(map(int, input().split()))\n",
    "    result = set1.difference(set2)\n",
    "    print(len(result))\n"
   ]
  },
  {
   "cell_type": "code",
   "execution_count": null,
   "id": "3cbae6e9-19ef-4e9b-a677-85af0f5d643c",
   "metadata": {},
   "outputs": [],
   "source": [
    "#Set .symmetric_difference() Operation"
   ]
  },
  {
   "cell_type": "code",
   "execution_count": null,
   "id": "0710fef6-4bdd-4f9c-8a63-627187d69ca2",
   "metadata": {},
   "outputs": [],
   "source": [
    "# Enter your code here. Read input from STDIN. Print output to STDOUT\n",
    "if __name__ == '__main__':\n",
    "    n = int(input())\n",
    "    set1 = set(map(int, input().split()))\n",
    "    m = int(input())\n",
    "    set2 = set(map(int, input().split()))\n",
    "    result = set1.symmetric_difference(set2)\n",
    "    print(len(result))\n"
   ]
  },
  {
   "cell_type": "code",
   "execution_count": null,
   "id": "71c421fd-7597-42d5-8f4a-cf8aa0b7c426",
   "metadata": {},
   "outputs": [],
   "source": [
    "#Set Mutations"
   ]
  },
  {
   "cell_type": "code",
   "execution_count": null,
   "id": "e5efc65b-7579-4153-8148-5715de7a7bcf",
   "metadata": {},
   "outputs": [],
   "source": [
    "# Enter your code here. Read input from STDIN. Print output to STDOUT\n",
    "if __name__ == '__main__':\n",
    "    nA = int(input())\n",
    "    A = set(map(int, input().split()))\n",
    "    N = int(input())\n",
    "    numero = 0\n",
    "    sum = 0\n",
    "    while numero < N:\n",
    "        operazione = input().split()\n",
    "        other = set(map(int, input().split()))\n",
    "        numero += 1\n",
    "        if operazione[0] == 'intersection_update':\n",
    "            A.intersection_update(other)\n",
    "        elif operazione[0] == 'symmetric_difference_update':\n",
    "            A.symmetric_difference_update(other)\n",
    "        elif operazione[0] == 'difference_update':\n",
    "            A.difference_update(other)\n",
    "        elif operazione[0] == 'update':\n",
    "            A.update(other)\n",
    "    for element in A:\n",
    "        sum += element\n",
    "    print(sum)\n"
   ]
  },
  {
   "cell_type": "code",
   "execution_count": null,
   "id": "05efe91b-47ba-4d2b-aa48-dc492a06c73b",
   "metadata": {},
   "outputs": [],
   "source": [
    "#The Captain's Room"
   ]
  },
  {
   "cell_type": "code",
   "execution_count": null,
   "id": "7e6aa218-f23c-479a-93de-7d4839ff4828",
   "metadata": {},
   "outputs": [],
   "source": [
    "# Enter your code here. Read input from STDIN. Print output to STDOUT\n",
    "\n",
    "if __name__ == '__main__':\n",
    "    n = int(input())\n",
    "    rooms = list(map(int, input().split()))\n",
    "    set1=set() \n",
    "    duplicato=set() \n",
    "    for elemento in rooms:\n",
    "        if elemento in set1:\n",
    "            duplicato.add(elemento)\n",
    "        elif elemento not in set1:\n",
    "            set1.add(elemento)\n",
    "    set2=set1-duplicato \n",
    "    for element in set2:\n",
    "        print(element)"
   ]
  },
  {
   "cell_type": "code",
   "execution_count": null,
   "id": "10fd6e56-1e56-420b-acfc-f2cd6f2e61eb",
   "metadata": {},
   "outputs": [],
   "source": [
    "#Check Subset"
   ]
  },
  {
   "cell_type": "code",
   "execution_count": null,
   "id": "c68d46a6-34b6-4189-8273-5f380fad3f79",
   "metadata": {},
   "outputs": [],
   "source": [
    "# Enter your code here. Read input from STDIN. Print output to STDOUT\n",
    "\n",
    "for i in range(int(input())):\n",
    "    a = input()\n",
    "    A = set(input().split())\n",
    "    b = int(input())\n",
    "    B = set(input().split())\n",
    "    print(A.issubset(B))\n"
   ]
  },
  {
   "cell_type": "code",
   "execution_count": null,
   "id": "f910cce5-b702-457d-b0c2-4a631f66acef",
   "metadata": {},
   "outputs": [],
   "source": [
    "#Check Strict Superset"
   ]
  },
  {
   "cell_type": "code",
   "execution_count": null,
   "id": "ead53f21-6943-475c-bc57-65232a4ea9a9",
   "metadata": {},
   "outputs": [],
   "source": [
    "# Enter your code here. Read input from STDIN. Print output to STDOUT\n",
    "A = set(input().split())\n",
    "N=int(input())\n",
    "cont=0\n",
    "for i in range(N):\n",
    "    if A.issuperset(set(input().split())):\n",
    "        cont+=1\n",
    "    else:\n",
    "        print(False)\n",
    "        break\n",
    "if cont==N:\n",
    "    print(True)\n"
   ]
  },
  {
   "cell_type": "code",
   "execution_count": null,
   "id": "93ac37b0-9cc5-446a-ac9e-a819e250ca8c",
   "metadata": {},
   "outputs": [],
   "source": [
    "#collections.Counter()"
   ]
  },
  {
   "cell_type": "code",
   "execution_count": null,
   "id": "b2512027-a8cd-4564-9278-4c67170bc0af",
   "metadata": {},
   "outputs": [],
   "source": [
    "# Enter your code here. Read input from STDIN. Print output to STDOUT\n",
    "from collections import Counter\n",
    "def compute_profit(shoes_size, all_customer):\n",
    "    profit = 0\n",
    "    c = Counter(shoes_size)\n",
    "    for elemento in all_customer:\n",
    "        if elemento[0] in c and c[elemento[0]] > 0:\n",
    "            profit+= elemento[1]\n",
    "            c[elemento[0]]-=1\n",
    "    return profit    \n",
    "        \n",
    "    \n",
    "if __name__ == '__main__':\n",
    "    X = int(input())\n",
    "    shoes_size = list(map(int, input().split()))\n",
    "    N = int(input())\n",
    "    all_customer=[]\n",
    "    for i in range(N):\n",
    "        customer_shoe = list(map(int, input().split()))\n",
    "        all_customer.append(customer_shoe)\n",
    "    profit = compute_profit(shoes_size,all_customer)\n",
    "    print(profit)\n"
   ]
  },
  {
   "cell_type": "code",
   "execution_count": null,
   "id": "f0760710-bd8a-4092-bc59-6fdf60b51a65",
   "metadata": {},
   "outputs": [],
   "source": [
    "#DefaultDict Tutorial"
   ]
  },
  {
   "cell_type": "code",
   "execution_count": null,
   "id": "206f3a60-c8f9-4afb-8e4b-a483c5d4e7d2",
   "metadata": {},
   "outputs": [],
   "source": [
    "# Enter your code here. Read input from STDIN. Print output to STDOUT\n",
    "from collections import defaultdict\n",
    "d = defaultdict(list)\n",
    "def occurrence(d, n, m):\n",
    "    presente = False\n",
    "    for indice in range(m):\n",
    "        for indice2 in range(n):\n",
    "            if d['B'][indice] == d['A'][indice2]:\n",
    "                print(indice2+1, end=' ')\n",
    "                presente = True\n",
    "        if presente==False:\n",
    "            print(-1, end=' ')\n",
    "        presente=False\n",
    "        print()\n",
    "        \n",
    "                \n",
    "    \n",
    "if __name__ == '__main__':\n",
    "    n,m = map(int,input().split())\n",
    "    for i in range(n):\n",
    "        d['A'].append(input())\n",
    "    for i in range(m):\n",
    "        d['B'].append(input())\n",
    "    occurrence(d, n, m) \n"
   ]
  },
  {
   "cell_type": "code",
   "execution_count": null,
   "id": "c289f923-6faa-4dd4-90a9-a74b61b786a3",
   "metadata": {},
   "outputs": [],
   "source": [
    "#Collections.namedtuple()"
   ]
  },
  {
   "cell_type": "code",
   "execution_count": null,
   "id": "8f9f14c1-148f-409d-894f-acb388de6a1c",
   "metadata": {},
   "outputs": [],
   "source": [
    "# Enter your code here. Read input from STDIN. Print output to STDOUT\n",
    "from collections import namedtuple\n",
    "def average(S,N):\n",
    "    somma=0\n",
    "    for student in S:\n",
    "        somma+= student.MARKS\n",
    "    media = round(somma/N, 2)\n",
    "    return media\n",
    "    \n",
    "if __name__ == '__main__':\n",
    "    N = int(input())\n",
    "    column_name = list(input().split())\n",
    "    Student = namedtuple('Student', column_name)\n",
    "    for i in range(N):\n",
    "        S = Student(tuple(input().split()))\n",
    "    media=average(S,N)\n",
    "    print(media)\n"
   ]
  },
  {
   "cell_type": "code",
   "execution_count": null,
   "id": "c1e96a30-59f6-4c18-9d43-77270e35a74b",
   "metadata": {},
   "outputs": [],
   "source": [
    "#Collections.OrderedDict()"
   ]
  },
  {
   "cell_type": "code",
   "execution_count": null,
   "id": "f74fbbbf-127f-41ab-b486-51a6d4849823",
   "metadata": {},
   "outputs": [],
   "source": [
    "# Enter your code here. Read input from STDIN. Print output to STDOUT\n",
    "from collections import OrderedDict\n",
    "\n",
    "ordered_dictionary = OrderedDict()\n",
    "N=int(input())\n",
    "for i in range(N):\n",
    "    arr=list(input().split())\n",
    "    value=int(arr[-1])\n",
    "    key=' '.join(arr[:-1])\n",
    "    if  key in ordered_dictionary:\n",
    "        new= ordered_dictionary[key] +value\n",
    "        ordered_dictionary[key]=new\n",
    "    else:\n",
    "        ordered_dictionary[key]=value\n",
    "for key, value in ordered_dictionary.items():\n",
    "    print(key,value)\n"
   ]
  },
  {
   "cell_type": "code",
   "execution_count": null,
   "id": "de87933d-fd13-43f0-a268-725e5d53f317",
   "metadata": {},
   "outputs": [],
   "source": [
    "#Word Order"
   ]
  },
  {
   "cell_type": "code",
   "execution_count": null,
   "id": "d25ff3dd-c950-4a41-987d-f21adba08e1b",
   "metadata": {},
   "outputs": [],
   "source": [
    "# Enter your code here. Read input from STDIN. Print output to STDOUT\n",
    "from collections import Counter\n",
    "lista=[]\n",
    "for i in range(int(input())):\n",
    "    lista.append(input())\n",
    "c=Counter(lista)\n",
    "print(len(c))\n",
    "for val in c.values():\n",
    "    print(val, end=' ')\n"
   ]
  },
  {
   "cell_type": "code",
   "execution_count": null,
   "id": "70e69f0c-dba3-4aa0-8fb7-99b9300ee722",
   "metadata": {},
   "outputs": [],
   "source": [
    "#Collections.deque()"
   ]
  },
  {
   "cell_type": "code",
   "execution_count": null,
   "id": "d27f162f-8371-4238-a9ca-e29d55900ba9",
   "metadata": {},
   "outputs": [],
   "source": [
    "# Enter your code here. Read input from STDIN. Print output to STDOUT\n",
    "from collections import deque\n",
    "\n",
    "d = deque()\n",
    "for i in range(int(input())):\n",
    "    operazione= list(input().split())\n",
    "    if operazione[0]== 'append':\n",
    "        d.append(int(operazione[1]))\n",
    "    elif operazione[0]== 'appendleft':\n",
    "        d.appendleft(int(operazione[1]))\n",
    "    elif operazione[0]== 'pop':\n",
    "        d.pop()\n",
    "    elif operazione[0]== 'popleft':\n",
    "        d.popleft()\n",
    "for element in d:\n",
    "    print(element, end=' ')\n",
    "        \n"
   ]
  },
  {
   "cell_type": "code",
   "execution_count": null,
   "id": "a6083df2-ca38-4b3a-ac9c-dbbf462ed04c",
   "metadata": {},
   "outputs": [],
   "source": [
    "#Company Logo"
   ]
  },
  {
   "cell_type": "code",
   "execution_count": null,
   "id": "8c27989c-f6a6-4bde-8183-c5e4a65fcfd8",
   "metadata": {},
   "outputs": [],
   "source": [
    "#!/bin/python3\n",
    "\n",
    "import math\n",
    "import os\n",
    "import random\n",
    "import re\n",
    "import sys\n",
    "from collections import Counter\n",
    "\n",
    "def contaLogo(s):\n",
    "    l=list(s)\n",
    "    l.sort()\n",
    "    c=Counter(l)\n",
    "    massimo=0\n",
    "    for keys, values in c.most_common(3):\n",
    "        print(keys,values)\n",
    "    \n",
    "if __name__ == '__main__':\n",
    "    s = input()\n",
    "    contaLogo(s)\n",
    "    \n"
   ]
  },
  {
   "cell_type": "code",
   "execution_count": null,
   "id": "df307d3b-288d-428f-993b-226b0c146fac",
   "metadata": {},
   "outputs": [],
   "source": [
    "#Calendar Module"
   ]
  },
  {
   "cell_type": "code",
   "execution_count": null,
   "id": "d8c0799c-c973-48e1-aeda-82dc323c747f",
   "metadata": {},
   "outputs": [],
   "source": [
    "# Enter your code here. Read input from STDIN. Print output to STDOUT\n",
    "import calendar\n",
    "if __name__ == '__main__':\n",
    "    day =list(map(int,input().split()))\n",
    "    giorno=calendar.weekday(day[2],day[0],day[1])\n",
    "    if giorno==0:\n",
    "        print('MONDAY')\n",
    "    elif giorno==1:\n",
    "        print('TUESDAY')\n",
    "    elif giorno==2:\n",
    "        print('WEDNESDAY')\n",
    "    elif giorno==3:\n",
    "        print('THURSDAY')\n",
    "    elif giorno==4:\n",
    "        print('FRIDAY')\n",
    "    elif giorno==5:\n",
    "        print('SATURDAY')\n",
    "    elif giorno==6:\n",
    "        print('SUNDAY')\n"
   ]
  },
  {
   "cell_type": "code",
   "execution_count": null,
   "id": "989e4209-8590-4407-a69e-b1e4c7df834a",
   "metadata": {},
   "outputs": [],
   "source": [
    "#Time Delta"
   ]
  },
  {
   "cell_type": "code",
   "execution_count": null,
   "id": "4adae6ff-31e5-446a-8987-e5369dbf66f2",
   "metadata": {},
   "outputs": [],
   "source": [
    "#!/bin/python3\n",
    "\n",
    "import math\n",
    "import os\n",
    "import random\n",
    "import re\n",
    "import sys\n",
    "from datetime import datetime as dt\n",
    "\n",
    "# Complete the time_delta function below.\n",
    "def time_delta(t1, t2):\n",
    "    t1_form = dt.strptime(t1,'%a %d %b %Y %H:%M:%S %z')\n",
    "    t2_form = dt.strptime(t2,'%a %d %b %Y %H:%M:%S %z')\n",
    "    res = str(round(abs((t1_form-t2_form).total_seconds())))\n",
    "    return res\n",
    "\n",
    "if __name__ == '__main__':\n",
    "    fptr = open(os.environ['OUTPUT_PATH'], 'w')\n",
    "\n",
    "    t = int(input())\n",
    "\n",
    "    for t_itr in range(t):\n",
    "        t1 = input()\n",
    "\n",
    "        t2 = input()\n",
    "\n",
    "        delta = time_delta(t1, t2)\n",
    "\n",
    "        fptr.write(delta + '\\n')\n",
    "\n",
    "    fptr.close()\n"
   ]
  },
  {
   "cell_type": "code",
   "execution_count": null,
   "id": "7c681a2f-d0ad-40b0-8269-60ddb4bd415a",
   "metadata": {},
   "outputs": [],
   "source": [
    "#Exceptions"
   ]
  },
  {
   "cell_type": "code",
   "execution_count": null,
   "id": "837941c6-2b14-40f6-b38c-55c560ef2ce1",
   "metadata": {},
   "outputs": [],
   "source": [
    "# Enter your code here. Read input from STDIN. Print output to STDOUT\n",
    "if __name__ == '__main__':\n",
    "    N = int(input())\n",
    "    \n",
    "    for i in range(N):    \n",
    "        try:\n",
    "            a,b=map(int,input().split())\n",
    "            print(a//b)\n",
    "        except ZeroDivisionError as e:\n",
    "            print (\"Error Code:\",e)\n",
    "        except ValueError as e:\n",
    "            print (\"Error Code:\",e)\n"
   ]
  },
  {
   "cell_type": "code",
   "execution_count": null,
   "id": "cf976560-1e10-4b7c-81f3-00e0ae50e285",
   "metadata": {},
   "outputs": [],
   "source": [
    "#Zipped!"
   ]
  },
  {
   "cell_type": "code",
   "execution_count": null,
   "id": "e8b54cb9-8341-444c-903a-8e578dcd73eb",
   "metadata": {},
   "outputs": [],
   "source": [
    "# Enter your code here. Read input from STDIN. Print output to STDOUT\n",
    "if __name__ == '__main__':\n",
    "    N,X = map(int,input().split())\n",
    "    score=[]\n",
    "    somma = 0.0\n",
    "    for i in range(X):\n",
    "        score.append(list(map(float,input().split())))\n",
    "    score2=zip(*score)\n",
    "    for element in score2:\n",
    "        element = list(element)\n",
    "        for j in range(X):\n",
    "            somma += element[j]\n",
    "            media = (somma/X)\n",
    "        print(media)\n",
    "        somma = 0.0\n"
   ]
  },
  {
   "cell_type": "code",
   "execution_count": null,
   "id": "f4514e85-f150-4922-9895-ab73cf977847",
   "metadata": {},
   "outputs": [],
   "source": [
    "#Athlete Sort"
   ]
  },
  {
   "cell_type": "code",
   "execution_count": null,
   "id": "dc86bb3c-ba06-438c-b3da-c01d508c36b6",
   "metadata": {},
   "outputs": [],
   "source": [
    "#!/bin/python3\n",
    "\n",
    "import math\n",
    "import os\n",
    "import random\n",
    "import re\n",
    "import sys\n",
    "def ordina(arr,k,n):\n",
    "    arr2=zip(*arr)\n",
    "    arr3=[]\n",
    "    lista_def=[]\n",
    "    for elemento in arr2:\n",
    "        arr3.append(list(elemento))\n",
    "    provvisorio=[]\n",
    "    ordine=arr3[k]\n",
    "    ordine.sort()\n",
    "    for elemento in ordine:\n",
    "        for i in range(n):\n",
    "            if arr[i][k] == elemento and arr[i] not in provvisorio:\n",
    "                lista_def.append(arr[i])\n",
    "                provvisorio.append(arr[i])\n",
    "    for lista in lista_def:\n",
    "        for element in lista:\n",
    "            print(element, end=' ')\n",
    "        print()\n",
    "if __name__ == '__main__':\n",
    "    nm = input().split()\n",
    "\n",
    "    n = int(nm[0])\n",
    "\n",
    "    m = int(nm[1])\n",
    "\n",
    "    arr = []\n",
    "\n",
    "    for _ in range(n):\n",
    "        arr.append(list(map(int, input().rstrip().split())))\n",
    "\n",
    "    k = int(input())\n",
    "    ordina(arr,k,n)\n"
   ]
  },
  {
   "cell_type": "code",
   "execution_count": null,
   "id": "4d1dd4a1-143b-477f-a835-273b4e46b0ba",
   "metadata": {},
   "outputs": [],
   "source": [
    "#ginortS"
   ]
  },
  {
   "cell_type": "code",
   "execution_count": null,
   "id": "ce3d7a83-c9dd-43c5-bafa-9c32a4f4260a",
   "metadata": {},
   "outputs": [],
   "source": [
    "# Enter your code here. Read input from STDIN. Print output to STDOUT\n",
    "def ordina(S):\n",
    "    lower=[]\n",
    "    even=[]\n",
    "    odd=[]\n",
    "    upper=[]\n",
    "    definitiva=''\n",
    "    for char in S:\n",
    "        if char.islower():\n",
    "            lower.append(char)\n",
    "        elif char.isupper():\n",
    "            upper.append(char)\n",
    "            \n",
    "        elif char.isdigit() and int(char) %2 == 0:\n",
    "            even.append(char)\n",
    "            \n",
    "        elif char.isdigit() and int(char) %2 == 1:\n",
    "            odd.append(char)\n",
    "            \n",
    "    lower.sort()\n",
    "    upper.sort()\n",
    "    even.sort()\n",
    "    odd.sort()\n",
    "    for char in lower:\n",
    "        definitiva+=char\n",
    "    for char in upper:\n",
    "        definitiva+=char\n",
    "    for char in odd:\n",
    "        definitiva+=char\n",
    "    for char in even:\n",
    "        definitiva+=char\n",
    "    print(definitiva)\n",
    "    \n",
    "if __name__ == '__main__':\n",
    "    S = input()\n",
    "    ordina(S)\n"
   ]
  },
  {
   "cell_type": "code",
   "execution_count": null,
   "id": "45311f11-dd2a-4967-a0bf-87aec757ab43",
   "metadata": {},
   "outputs": [],
   "source": [
    "#Map and Lambda Function"
   ]
  },
  {
   "cell_type": "code",
   "execution_count": null,
   "id": "3a043adc-e400-46a7-b5db-b6dbf632b6fc",
   "metadata": {},
   "outputs": [],
   "source": [
    "cube = lambda x: x**3# complete the lambda function \n",
    "\n",
    "def fibonacci(n):\n",
    "    # return a list of fibonacci numbers\n",
    "    if n==1:\n",
    "        lista=[0]\n",
    "        return lista\n",
    "    if n==0:\n",
    "        lista=[]\n",
    "        return lista\n",
    "    lista=[0,1]\n",
    "    i1=0\n",
    "    i2=1\n",
    "    while len(lista)<n:\n",
    "        lista.append(lista[i1] + lista[i2])\n",
    "        i1+=1\n",
    "        i2+=1\n",
    "    return lista"
   ]
  },
  {
   "cell_type": "code",
   "execution_count": null,
   "id": "eb18fb2f-1d28-4bb0-a6f6-935c32f498a3",
   "metadata": {},
   "outputs": [],
   "source": [
    "#Detect Floating Point Number"
   ]
  },
  {
   "cell_type": "code",
   "execution_count": null,
   "id": "7d4b2135-1aac-4e92-8f60-1029adba0658",
   "metadata": {},
   "outputs": [],
   "source": [
    "# Enter your code here. Read input from STDIN. Print output to STDOUT\n",
    "def trova_float(arr):\n",
    "        \n",
    "    for element in arr:\n",
    "        try:\n",
    "            int(element)\n",
    "            print(False)\n",
    "        except ValueError:\n",
    "            try:    \n",
    "                float(element)\n",
    "                len(element[element.rfind('.')+1:]) >1\n",
    "                print(True)\n",
    "            except ValueError:\n",
    "                print(False)\n",
    "if __name__ == '__main__':\n",
    "    n = int(input())\n",
    "    arr=[]\n",
    "    for i in range(n):\n",
    "        arr.append(input())\n",
    "    trova_float(arr)"
   ]
  },
  {
   "cell_type": "code",
   "execution_count": null,
   "id": "383cc40f-72df-4c62-adf9-bd5e9baba4c5",
   "metadata": {},
   "outputs": [],
   "source": [
    "#Re.split()"
   ]
  },
  {
   "cell_type": "code",
   "execution_count": null,
   "id": "c5b4efc1-b0f7-4589-b02a-e764b00f32b9",
   "metadata": {},
   "outputs": [],
   "source": [
    "import re\n",
    "regex_pattern = r\"[.,]\"\t# Do not delete 'r'.\n",
    "print(\"\\n\".join(re.split(regex_pattern, input())))"
   ]
  },
  {
   "cell_type": "code",
   "execution_count": null,
   "id": "e8d97302-275e-4a2b-92b0-f233a553ea28",
   "metadata": {},
   "outputs": [],
   "source": [
    "#Group(), Groups() & Groupdict()"
   ]
  },
  {
   "cell_type": "code",
   "execution_count": null,
   "id": "56357d81-cb5a-4b85-81aa-8c3717366125",
   "metadata": {},
   "outputs": [],
   "source": [
    "# Enter your code here. Read input from STDIN. Print output to STDOUT\n",
    "import re\n",
    "s= input()\n",
    "r=re.search(r'([0-9a-zA-Z])\\1', s)\n",
    "print(r.group(1) if r else -1)\n"
   ]
  },
  {
   "cell_type": "code",
   "execution_count": null,
   "id": "0279976d-5150-4ccb-9402-e60aa71ea48b",
   "metadata": {},
   "outputs": [],
   "source": [
    "#Re.start() & Re.end()"
   ]
  },
  {
   "cell_type": "code",
   "execution_count": null,
   "id": "c19f5df4-2283-42d5-b968-e3215b78c951",
   "metadata": {},
   "outputs": [],
   "source": [
    "# Enter your code here. Read input from STDIN. Print output to STDOUT\n",
    "import re\n",
    "s=input()\n",
    "k=input()\n",
    "\n",
    "m = re.finditer(r'(?=(' + k + '))',s)\n",
    "trovato = False\n",
    "for l in m:\n",
    "    trovato = True\n",
    "    print((l.start(1), l.end(1) - 1))\n",
    "\n",
    "if trovato == False:\n",
    "    print((-1, -1))"
   ]
  },
  {
   "cell_type": "code",
   "execution_count": null,
   "id": "c1dfdf99-7900-4d7c-aff5-b875cd900f83",
   "metadata": {},
   "outputs": [],
   "source": [
    "#Regex Substitution"
   ]
  },
  {
   "cell_type": "code",
   "execution_count": null,
   "id": "53e98e72-ab17-4f44-a7aa-5b93463b292c",
   "metadata": {},
   "outputs": [],
   "source": [
    "# Enter your code here. Read input from STDIN. Print output to STDOUT\n",
    "import re\n",
    "n=int(input())\n",
    "for i in range(n):\n",
    "    s = input()\n",
    "    s=re.sub(r\"(?<= )(&&)(?= )\",'and',s)\n",
    "    s=re.sub(r\"(?<= )(\\|\\|)(?= )\",'or',s)\n",
    "    print(s)\n"
   ]
  },
  {
   "cell_type": "code",
   "execution_count": null,
   "id": "25244ab6-18b2-4106-a795-5325287cfa5b",
   "metadata": {},
   "outputs": [],
   "source": [
    "#Validating Roman Numerals"
   ]
  },
  {
   "cell_type": "code",
   "execution_count": null,
   "id": "88ebd5b2-808f-44f1-b362-c66470439b4a",
   "metadata": {},
   "outputs": [],
   "source": [
    "regex_pattern = r\"^M{0,3}(CM|CD|D?C{0,3})(XC|XL|L?X{0,3})(IX|IV|V?I{0,3})$\"\t# Do not delete 'r'.\n",
    "\n",
    "import re\n",
    "print(str(bool(re.match(regex_pattern, input()))))"
   ]
  },
  {
   "cell_type": "code",
   "execution_count": null,
   "id": "fb84ac30-2b86-43d7-9286-b1620a568a01",
   "metadata": {},
   "outputs": [],
   "source": [
    "#Validating phone numbers"
   ]
  },
  {
   "cell_type": "code",
   "execution_count": null,
   "id": "0c057323-6ed8-40e1-9b2f-58b87e851f82",
   "metadata": {},
   "outputs": [],
   "source": [
    "# Enter your code here. Read input from STDIN. Print output to STDOUT\n",
    "import re\n",
    "n=int(input())\n",
    "for i in range(n):\n",
    "    if re.match(r'[789]\\d{9}$',input()):   \n",
    "        print('YES')  \n",
    "    else:  \n",
    "        print('NO')\n"
   ]
  },
  {
   "cell_type": "code",
   "execution_count": null,
   "id": "d8564fb1-fc8e-456f-9162-d3b42b3b91b4",
   "metadata": {},
   "outputs": [],
   "source": [
    "#Validating and Parsing Email Addresses"
   ]
  },
  {
   "cell_type": "code",
   "execution_count": null,
   "id": "3398c7fa-d35e-4a3e-a14b-4ac35127019a",
   "metadata": {},
   "outputs": [],
   "source": [
    "# Enter your code here. Read input from STDIN. Print output to STDOUT\n",
    "import re\n",
    "import email.utils \n",
    "\n",
    "regex_pattern = r'^[a-z][\\w\\-\\.]+@[a-z]+\\.[a-z]{1,3}$'\n",
    "for i in range(int(input())):\n",
    "    addr = email.utils.parseaddr(input())\n",
    "    if re.search(regex_pattern, addr[1]):\n",
    "        print(email.utils.formataddr(addr))\n"
   ]
  },
  {
   "cell_type": "code",
   "execution_count": null,
   "id": "32681769-2900-445b-8034-1b1c7dfb6c4d",
   "metadata": {},
   "outputs": [],
   "source": [
    "#Hex Color Code"
   ]
  },
  {
   "cell_type": "code",
   "execution_count": null,
   "id": "41d224cf-2b2d-4040-8d9c-b0b249c9c2c2",
   "metadata": {},
   "outputs": [],
   "source": [
    "# Enter your code here. Read input from STDIN. Print output to STDOUT\n",
    "import re\n",
    "\n",
    "css = False\n",
    "for i in range(int(input())):\n",
    "    s = input()\n",
    "    if '{' in s:\n",
    "        css = True\n",
    "    elif '}' in s:\n",
    "        css = False\n",
    "    elif css:\n",
    "        for color in re.findall('#[0-9a-fA-F]{3,6}', s):\n",
    "            print(color)\n"
   ]
  },
  {
   "cell_type": "code",
   "execution_count": null,
   "id": "7fce944a-6551-4174-bc29-8c2bbe95994b",
   "metadata": {},
   "outputs": [],
   "source": [
    "#HTML Parser - Part 1"
   ]
  },
  {
   "cell_type": "code",
   "execution_count": null,
   "id": "7d49a744-d43b-4975-9148-f82d73dde37d",
   "metadata": {},
   "outputs": [],
   "source": [
    "# Enter your code here. Read input from STDIN. Print output to STDOUT\n",
    "from html.parser import HTMLParser\n",
    "class MyHTMLParser(HTMLParser):\n",
    "    def handle_starttag(self, tag, attrs):        \n",
    "        print ('Start :',tag)\n",
    "        for element in attrs:\n",
    "            print ('->',element[0],'>',element[1])\n",
    "            \n",
    "    def handle_endtag(self, tag):\n",
    "        print ('End   :',tag)\n",
    "        \n",
    "    def handle_startendtag(self, tag, attrs):\n",
    "        print ('Empty :',tag)\n",
    "        for element in attrs:\n",
    "            print ('->',element[0],'>',element[1])\n",
    "            \n",
    "MyParser = MyHTMLParser()\n",
    "n=int(input())\n",
    "MyParser.feed(''.join([input().strip() for i in range(n)]))\n"
   ]
  },
  {
   "cell_type": "code",
   "execution_count": null,
   "id": "a59d0cd3-9960-43c3-8c92-6da14b56fa3d",
   "metadata": {},
   "outputs": [],
   "source": [
    "#HTML Parser - Part 2"
   ]
  },
  {
   "cell_type": "code",
   "execution_count": null,
   "id": "dbc77df4-ec88-4eff-bbae-56ba34eb7fc1",
   "metadata": {},
   "outputs": [],
   "source": [
    "from html.parser import HTMLParser\n",
    "\n",
    "class MyHTMLParser(HTMLParser):\n",
    "    def handle_comment(self, data):\n",
    "        if (len(data.split('\\n')) != 1):\n",
    "            print(\">>> Multi-line Comment\")\n",
    "        else:\n",
    "            print(\">>> Single-line Comment\")\n",
    "        print(data)\n",
    "    def handle_data(self, data):\n",
    "        if data != \"\\n\":\n",
    "            print(\">>> Data\")\n",
    "            print(data)  \n",
    " \n",
    "html = \"\"       \n",
    "for i in range(int(input())):\n",
    "    html += input().rstrip()\n",
    "    html += '\\n'\n",
    "    \n",
    "parser = MyHTMLParser()\n",
    "parser.feed(html)\n",
    "parser.close()\n"
   ]
  },
  {
   "cell_type": "code",
   "execution_count": null,
   "id": "876fa1b5-056f-4460-8ce7-771a31b11a59",
   "metadata": {},
   "outputs": [],
   "source": [
    "#Detect HTML Tags, Attributes and Attribute Values"
   ]
  },
  {
   "cell_type": "code",
   "execution_count": null,
   "id": "4895d5ef-b687-4241-88de-6820a4adc78d",
   "metadata": {},
   "outputs": [],
   "source": [
    "# Enter your code here. Read input from STDIN. Print output to STDOUT\n",
    "from html.parser import HTMLParser\n",
    "\n",
    "class MyHTMLParser(HTMLParser):\n",
    "    def handle_starttag(self, tag, attrs):\n",
    "        print(tag)\n",
    "        for at in attrs:\n",
    "            print(\"-> {} > {}\".format(at[0], at[1]))\n",
    "    def handle_startendtag(self, tag, attrs):\n",
    "        print(tag)\n",
    "        for at in attrs:\n",
    "            print(\"-> {} > {}\".format(at[0], at[1]))\n",
    "\n",
    "html = \"\"\n",
    "for i in range(int(input())):\n",
    "    html += input().rstrip()\n",
    "    html += '\\n'\n",
    "    \n",
    "parser = MyHTMLParser()\n",
    "parser.feed(html)\n",
    "parser.close()\n"
   ]
  },
  {
   "cell_type": "code",
   "execution_count": null,
   "id": "cec88763-ec72-4f11-88d7-bdb5829edb3f",
   "metadata": {},
   "outputs": [],
   "source": [
    "#XML 1 - Find the Score"
   ]
  },
  {
   "cell_type": "code",
   "execution_count": null,
   "id": "73b88e76-6a26-436b-925f-b2c144b81ad8",
   "metadata": {},
   "outputs": [],
   "source": [
    "import sys\n",
    "import xml.etree.ElementTree as etree\n",
    "\n",
    "\n",
    "def get_attr_number(node):\n",
    "    # your code goes here\n",
    "    lista=[]\n",
    "    for element in node.iter():\n",
    "        lista.append(len(element.attrib))\n",
    "    return sum(lista)\n",
    "\n",
    "if __name__ == '__main__':\n",
    "    sys.stdin.readline()\n",
    "    xml = sys.stdin.read()\n",
    "    tree = etree.ElementTree(etree.fromstring(xml))\n",
    "    root = tree.getroot()\n",
    "    print(get_attr_number(root))"
   ]
  },
  {
   "cell_type": "code",
   "execution_count": null,
   "id": "3c044f21-3fba-462f-b5e2-5d53d22cca96",
   "metadata": {},
   "outputs": [],
   "source": [
    "#XML2 - Find the Maximum Depth"
   ]
  },
  {
   "cell_type": "code",
   "execution_count": null,
   "id": "3ec56d67-2773-46e0-aeb6-3320ec55f8c9",
   "metadata": {},
   "outputs": [],
   "source": [
    "import xml.etree.ElementTree as etree\n",
    "\n",
    "maxdepth = 0\n",
    "def depth(elem, level):\n",
    "    global maxdepth\n",
    "    # your code goes here\n",
    "    if (level == maxdepth):\n",
    "        maxdepth += 1\n",
    "    for child in elem:\n",
    "        depth(child, level + 1)\n",
    "if __name__ == '__main__':\n",
    "    n = int(input())\n",
    "    xml = \"\"\n",
    "    for i in range(n):\n",
    "        xml =  xml + input() + \"\\n\"\n",
    "    tree = etree.ElementTree(etree.fromstring(xml))\n",
    "    depth(tree.getroot(), -1)\n",
    "    print(maxdepth)"
   ]
  },
  {
   "cell_type": "code",
   "execution_count": null,
   "id": "d4d0ef6f-c0c6-411a-b032-a2bc8a40130f",
   "metadata": {},
   "outputs": [],
   "source": [
    "#Standardize Mobile Number Using Decorators"
   ]
  },
  {
   "cell_type": "code",
   "execution_count": null,
   "id": "2108fb9d-aa9a-4caf-8a09-61e9571f284c",
   "metadata": {},
   "outputs": [],
   "source": [
    "def wrapper(f):\n",
    "    def fun(l):\n",
    "        # complete the function\n",
    "        lista= []\n",
    "        for telnum in l:\n",
    "            barenum = telnum[-10:]\n",
    "            telnum = '+91 ' + barenum[:5] + ' ' + barenum[5:]\n",
    "            lista.append(telnum)\n",
    "        f(lista)\n",
    "    return fun\n",
    "@wrapper\n",
    "def sort_phone(l):\n",
    "    print(*sorted(l), sep='\\n')\n",
    "\n",
    "if __name__ == '__main__':\n",
    "    l = [input() for _ in range(int(input()))]\n",
    "    sort_phone(l) "
   ]
  },
  {
   "cell_type": "code",
   "execution_count": null,
   "id": "013bf7f0-272a-4c92-a3e7-cdbfb7df17ff",
   "metadata": {},
   "outputs": [],
   "source": [
    "#Arrays"
   ]
  },
  {
   "cell_type": "code",
   "execution_count": null,
   "id": "3c3ece9b-ca01-49da-bc44-b02fae0be83d",
   "metadata": {},
   "outputs": [],
   "source": [
    "import numpy\n",
    "def arrays(arr):\n",
    "    # complete this function\n",
    "    # use numpy.array\n",
    "    arr2 = numpy.array(arr, float)\n",
    "    result = numpy.flip(arr2)\n",
    "    return result\n",
    "arr = input().strip().split(' ')\n",
    "result = arrays(arr)\n",
    "print(result)\n",
    "\n"
   ]
  },
  {
   "cell_type": "code",
   "execution_count": null,
   "id": "59f87341-a9e9-47e3-b389-b26bb60523d6",
   "metadata": {},
   "outputs": [],
   "source": [
    "#Shape and Reshape"
   ]
  },
  {
   "cell_type": "code",
   "execution_count": null,
   "id": "2647205a-262a-4a28-a7df-83399bed6ca4",
   "metadata": {},
   "outputs": [],
   "source": [
    "import numpy\n",
    "def converti(arr):\n",
    "    arr2=numpy.array(arr)\n",
    "    print(numpy.reshape(arr2,(3,3)))\n",
    "\n",
    "\n",
    "arr=list(map(int,input().split()))\n",
    "converti(arr)\n"
   ]
  },
  {
   "cell_type": "code",
   "execution_count": null,
   "id": "39fb3046-5a1b-4c5a-a918-695c3e380045",
   "metadata": {},
   "outputs": [],
   "source": [
    "#Transpose and Flatten"
   ]
  },
  {
   "cell_type": "code",
   "execution_count": null,
   "id": "e58c8693-2980-4cbe-b62c-d0a73379ecbf",
   "metadata": {},
   "outputs": [],
   "source": [
    "import numpy\n",
    "N,M= map(int, input().split())\n",
    "arr=[]\n",
    "for i in range(N):\n",
    "    arr.append(list(map(int,input().split())))\n",
    "arr2=numpy.array(arr)\n",
    "arr3=numpy.transpose(arr2)\n",
    "print(arr3)\n",
    "print(arr2.flatten())\n"
   ]
  },
  {
   "cell_type": "code",
   "execution_count": null,
   "id": "f45640df-13a2-4acb-987d-b9b73d114796",
   "metadata": {},
   "outputs": [],
   "source": [
    "#Concatenate"
   ]
  },
  {
   "cell_type": "code",
   "execution_count": null,
   "id": "7cd1e48a-8b82-475c-951e-5ce06556c06a",
   "metadata": {},
   "outputs": [],
   "source": [
    "import numpy\n",
    "N,M,P = map(int,input().split())\n",
    "arrN=[]\n",
    "arrM=[]\n",
    "for i in range(N):\n",
    "    arrN.append(list(map(int,input().split())))\n",
    "for i in range(M) :\n",
    "    arrM.append(list(map(int,input().split())))\n",
    "arr_N = numpy.array(arrN)\n",
    "arr_M = numpy.array(arrM)\n",
    "print(numpy.concatenate((arr_N,arr_M),axis=0))\n"
   ]
  },
  {
   "cell_type": "code",
   "execution_count": null,
   "id": "bbdf32a3-c9c8-435c-b0fe-0ee62e875f3c",
   "metadata": {},
   "outputs": [],
   "source": [
    "#Zeros and Ones"
   ]
  },
  {
   "cell_type": "code",
   "execution_count": null,
   "id": "780e2725-35f3-4238-9adf-4ce7ae12306e",
   "metadata": {},
   "outputs": [],
   "source": [
    "import numpy\n",
    "arr=list(map(int,input().split()))\n",
    "print(numpy.zeros(tuple(arr), dtype = numpy.int))\n",
    "print(numpy.ones(tuple(arr), dtype = numpy.int))\n"
   ]
  },
  {
   "cell_type": "code",
   "execution_count": null,
   "id": "85474c34-84ca-41ef-86ea-06660e9e922a",
   "metadata": {},
   "outputs": [],
   "source": [
    "#Eye and Identity"
   ]
  },
  {
   "cell_type": "code",
   "execution_count": null,
   "id": "188e4cb2-aece-424c-ad11-bab37f1cad0d",
   "metadata": {},
   "outputs": [],
   "source": [
    "import numpy\n",
    "numpy.set_printoptions(legacy='1.13')\n",
    "\n",
    "N,M=map(int,input().split())\n",
    "print(numpy.eye(N,M))"
   ]
  },
  {
   "cell_type": "code",
   "execution_count": null,
   "id": "dd528f10-190c-4088-9bb4-4da0c03e745b",
   "metadata": {},
   "outputs": [],
   "source": [
    "#Array Mathematics"
   ]
  },
  {
   "cell_type": "code",
   "execution_count": null,
   "id": "6210d4a9-113f-4912-b13c-3ed4a1e551e2",
   "metadata": {},
   "outputs": [],
   "source": [
    "import numpy\n",
    "N,M=map(int,input().split())\n",
    "A=[]\n",
    "B=[]\n",
    "for i in range(N):\n",
    "    A.append(list(map(int,input().split())))\n",
    "for i in range(N):\n",
    "    B.append(list(map(int,input().split())))\n",
    "arr1=numpy.array(A)\n",
    "arr2=numpy.array(B)\n",
    "print(numpy.add(arr1,arr2))\n",
    "print(numpy.subtract(arr1,arr2))\n",
    "print(numpy.multiply(arr1,arr2))\n",
    "print(numpy.floor_divide(arr1,arr2))\n",
    "print(numpy.mod(arr1,arr2))\n",
    "print(numpy.power(arr1,arr2))\n"
   ]
  },
  {
   "cell_type": "code",
   "execution_count": null,
   "id": "331b2503-9cbb-436c-b00f-b3040a16ae36",
   "metadata": {},
   "outputs": [],
   "source": [
    "#Floor, Ceil and Rint"
   ]
  },
  {
   "cell_type": "code",
   "execution_count": null,
   "id": "0efef61b-c02b-42a7-9e2d-9ab6ef2d2b42",
   "metadata": {},
   "outputs": [],
   "source": [
    "import numpy\n",
    "numpy.set_printoptions(legacy='1.13')\n",
    "A=list(map(float,input().split()))\n",
    "arr2=numpy.array(A)\n",
    "print(numpy.floor(arr2))\n",
    "print(numpy.ceil(arr2))\n",
    "print(numpy.rint(arr2))"
   ]
  },
  {
   "cell_type": "code",
   "execution_count": null,
   "id": "50a8cdab-66bf-40fa-9945-949bda46809e",
   "metadata": {},
   "outputs": [],
   "source": [
    "#Sum and Prod"
   ]
  },
  {
   "cell_type": "code",
   "execution_count": null,
   "id": "f6c5739f-a64e-4a9d-960a-50d241768194",
   "metadata": {},
   "outputs": [],
   "source": [
    "# Enter your code here. Read input from STDIN. Print output to STDOUT\n",
    "import numpy\n",
    "N,M = map(int,input().split())\n",
    "arr=[]\n",
    "for i in range(N):\n",
    "    arr.append(list(map(int,input().split())))\n",
    "arr2=numpy.array(arr)\n",
    "print(numpy.prod(numpy.sum(arr2, axis = 0)))\n"
   ]
  },
  {
   "cell_type": "code",
   "execution_count": null,
   "id": "bcf8491b-fa1a-4748-bb5c-21bb690dd00a",
   "metadata": {},
   "outputs": [],
   "source": [
    "#Min and Max"
   ]
  },
  {
   "cell_type": "code",
   "execution_count": null,
   "id": "2cd3f57a-9f63-4d45-a0e6-d9903ea378ed",
   "metadata": {},
   "outputs": [],
   "source": [
    "# Enter your code here. Read input from STDIN. Print output to STDOUT\n",
    "import numpy\n",
    "N,M = map(int,input().split())\n",
    "arr=[]\n",
    "for i in range(N):\n",
    "    arr.append(list(map(int,input().split())))\n",
    "arr2=numpy.array(arr)\n",
    "print(numpy.max(numpy.min(arr2, axis = 1)))\n"
   ]
  },
  {
   "cell_type": "code",
   "execution_count": null,
   "id": "9a59985b-4866-4815-974a-e936b37b5495",
   "metadata": {},
   "outputs": [],
   "source": [
    "#Mean, Var, and Std"
   ]
  },
  {
   "cell_type": "code",
   "execution_count": null,
   "id": "fb243c10-f6a4-4f66-a1fd-362579da4890",
   "metadata": {},
   "outputs": [],
   "source": [
    "import numpy\n",
    "N,M =map(int,input().split())\n",
    "arr=[]\n",
    "for i in range(N):\n",
    "    arr.append(list(map(int, input().split())))\n",
    "arr2=numpy.array(arr)\n",
    "print (numpy.mean(arr2, axis = 1)) \n",
    "print (numpy.var(arr2, axis = 0))\n",
    "print (numpy.std(arr2))   "
   ]
  },
  {
   "cell_type": "code",
   "execution_count": null,
   "id": "aaa0f29a-b172-4519-9408-75e3eaa7074d",
   "metadata": {},
   "outputs": [],
   "source": [
    "#Dot and Cross"
   ]
  },
  {
   "cell_type": "code",
   "execution_count": null,
   "id": "2c32c33b-4d48-4b17-9f9e-ad3bb90b20a2",
   "metadata": {},
   "outputs": [],
   "source": [
    "import numpy\n",
    "N =int(input())\n",
    "A=[]\n",
    "B=[]\n",
    "for i in range(N):\n",
    "    A.append(list(map(int,input().split())))\n",
    "for i in range(N):\n",
    "    B.append(list(map(int,input().split())))\n",
    "arrA=numpy.array(A)\n",
    "arrB=numpy.array(B)\n",
    "print(numpy.dot(arrA,arrB))"
   ]
  },
  {
   "cell_type": "code",
   "execution_count": null,
   "id": "0fa61a0c-179a-4140-a75d-cd7f41abd06a",
   "metadata": {},
   "outputs": [],
   "source": [
    "#Inner and Outer"
   ]
  },
  {
   "cell_type": "code",
   "execution_count": null,
   "id": "4d520acb-62c2-42ed-a900-1cd869244bd5",
   "metadata": {},
   "outputs": [],
   "source": [
    "import numpy\n",
    "\n",
    "A=list(map(int,input().split()))\n",
    "B=list(map(int,input().split()))\n",
    "arrA=numpy.array(A)\n",
    "arrB=numpy.array(B)\n",
    "print(numpy.inner(arrA,arrB))\n",
    "print(numpy.outer(arrA,arrB))\n"
   ]
  },
  {
   "cell_type": "code",
   "execution_count": null,
   "id": "0ff4b1b7-412d-47cd-bb53-19b2e90f023c",
   "metadata": {},
   "outputs": [],
   "source": [
    "#Polynomials"
   ]
  },
  {
   "cell_type": "code",
   "execution_count": null,
   "id": "fe424890-91ba-45a6-ac15-17a4b9168367",
   "metadata": {},
   "outputs": [],
   "source": [
    "import numpy\n",
    "\n",
    "A=list(map(float,input().split()))\n",
    "x=int(input())\n",
    "arrA=numpy.array(A)\n",
    "print(numpy.polyval(arrA,x))\n"
   ]
  },
  {
   "cell_type": "code",
   "execution_count": null,
   "id": "a10354e9-f615-4708-841a-220b4bab79e2",
   "metadata": {},
   "outputs": [],
   "source": [
    "#Linear Algebra"
   ]
  },
  {
   "cell_type": "code",
   "execution_count": null,
   "id": "f8381816-0ded-4bf2-8392-182416a2bc5a",
   "metadata": {},
   "outputs": [],
   "source": [
    "import numpy\n",
    "\n",
    "N=int(input())\n",
    "A=[]\n",
    "for i in range(N):\n",
    "    A.append(list(map(float,input().split())))\n",
    "arrA=numpy.array(A)\n",
    "print(round(numpy.linalg.det(arrA),2))\n"
   ]
  },
  {
   "cell_type": "code",
   "execution_count": null,
   "id": "8767b0c0-61d4-4fe2-81e1-7db0708edd5f",
   "metadata": {},
   "outputs": [],
   "source": [
    "#Birthday Cake Candles"
   ]
  },
  {
   "cell_type": "code",
   "execution_count": null,
   "id": "5b7a2085-0e3a-45d7-8a0b-acd980fef79e",
   "metadata": {},
   "outputs": [],
   "source": [
    "#!/bin/python3\n",
    "\n",
    "import math\n",
    "import os\n",
    "import random\n",
    "import re\n",
    "import sys\n",
    "\n",
    "#\n",
    "# Complete the 'birthdayCakeCandles' function below.\n",
    "#\n",
    "# The function is expected to return an INTEGER.\n",
    "# The function accepts INTEGER_ARRAY candles as parameter.\n",
    "#\n",
    "\n",
    "def birthdayCakeCandles(candles):\n",
    "    # Write your code here\n",
    "    n=max(candles)\n",
    "    return candles.count(n)\n",
    "\n",
    "if __name__ == '__main__':\n",
    "    fptr = open(os.environ['OUTPUT_PATH'], 'w')\n",
    "\n",
    "    candles_count = int(input().strip())\n",
    "\n",
    "    candles = list(map(int, input().rstrip().split()))\n",
    "\n",
    "    result = birthdayCakeCandles(candles)\n",
    "\n",
    "    fptr.write(str(result) + '\\n')\n",
    "\n",
    "    fptr.close()\n"
   ]
  },
  {
   "cell_type": "code",
   "execution_count": null,
   "id": "63daac7b-afd0-4878-b471-1ccf0eefdc56",
   "metadata": {},
   "outputs": [],
   "source": [
    "#Number Line Jumps"
   ]
  },
  {
   "cell_type": "code",
   "execution_count": null,
   "id": "6013a03a-bd3f-4ec0-935e-e46aed2389f3",
   "metadata": {},
   "outputs": [],
   "source": [
    "#!/bin/python3\n",
    "\n",
    "import math\n",
    "import os\n",
    "import random\n",
    "import re\n",
    "import sys\n",
    "\n",
    "#\n",
    "# Complete the 'kangaroo' function below.\n",
    "#\n",
    "# The function is expected to return a STRING.\n",
    "# The function accepts following parameters:\n",
    "#  1. INTEGER x1\n",
    "#  2. INTEGER v1\n",
    "#  3. INTEGER x2\n",
    "#  4. INTEGER v2\n",
    "#\n",
    "\n",
    "def kangaroo(x1, v1, x2, v2):\n",
    "    risultato = ''\n",
    "    a=v1 * x1\n",
    "    b=v2 * x2\n",
    "    risultato = 'NO'\n",
    "    MCD = math.gcd(a, b)\n",
    "    if x1 > x2 and v1 > v2:\n",
    "        risultato = 'NO'\n",
    "    elif x2 > x1 and v2 > v1:\n",
    "        risultato = 'NO'\n",
    "    elif MCD != 1 :\n",
    "        risultato = 'YES'\n",
    "    return risultato\n",
    "\n",
    "if __name__ == '__main__':\n",
    "    fptr = open(os.environ['OUTPUT_PATH'], 'w')\n",
    "\n",
    "    first_multiple_input = input().rstrip().split()\n",
    "\n",
    "    x1 = int(first_multiple_input[0])\n",
    "\n",
    "    v1 = int(first_multiple_input[1])\n",
    "\n",
    "    x2 = int(first_multiple_input[2])\n",
    "\n",
    "    v2 = int(first_multiple_input[3])\n",
    "\n",
    "    result = kangaroo(x1, v1, x2, v2)\n",
    "\n",
    "    fptr.write(result + '\\n')\n",
    "\n",
    "    fptr.close()\n"
   ]
  },
  {
   "cell_type": "code",
   "execution_count": null,
   "id": "07ad38e1-b6b4-4fda-8671-f5572b2ae54b",
   "metadata": {},
   "outputs": [],
   "source": [
    "#Viral Advertising"
   ]
  },
  {
   "cell_type": "code",
   "execution_count": null,
   "id": "0c584a45-f6d8-4cf7-af91-6e843c5b8762",
   "metadata": {},
   "outputs": [],
   "source": [
    "#!/bin/python3\n",
    "\n",
    "import math\n",
    "import os\n",
    "import random\n",
    "import re\n",
    "import sys\n",
    "\n",
    "#\n",
    "# Complete the 'viralAdvertising' function below.\n",
    "#\n",
    "# The function is expected to return an INTEGER.\n",
    "# The function accepts INTEGER n as parameter.\n",
    "#\n",
    "\n",
    "def viralAdvertising(n):\n",
    "    comulative_like = 2\n",
    "    shared = 5\n",
    "    liked = 2 \n",
    "    for i in range(1, n, 1):\n",
    "        if n == 1:\n",
    "            return comulative_like\n",
    "        \n",
    "        else:\n",
    "            shared = liked*3\n",
    "            liked = shared//2\n",
    "            comulative_like += liked\n",
    "    return comulative_like\n",
    "\n",
    "if __name__ == '__main__':\n",
    "    fptr = open(os.environ['OUTPUT_PATH'], 'w')\n",
    "\n",
    "    n = int(input().strip())\n",
    "\n",
    "    result = viralAdvertising(n)\n",
    "\n",
    "    fptr.write(str(result) + '\\n')\n",
    "\n",
    "    fptr.close()\n"
   ]
  },
  {
   "cell_type": "code",
   "execution_count": null,
   "id": "a8ab3d7c-6eef-4346-8ad9-7149b25c9366",
   "metadata": {},
   "outputs": [],
   "source": [
    "#Recursive Digit Sum"
   ]
  },
  {
   "cell_type": "code",
   "execution_count": null,
   "id": "88ac0654-1e87-4877-b20d-67edae8142dc",
   "metadata": {},
   "outputs": [],
   "source": [
    "#!/bin/python3\n",
    "\n",
    "import math\n",
    "import os\n",
    "import random\n",
    "import re\n",
    "import sys\n",
    "\n",
    "#\n",
    "# Complete the 'superDigit' function below.\n",
    "#\n",
    "# The function is expected to return an INTEGER.\n",
    "# The function accepts following parameters:\n",
    "#  1. STRING n\n",
    "#  2. INTEGER k\n",
    "#\n",
    "def ricorsivo(nuovo_n):\n",
    "    sum=0\n",
    "    if len(nuovo_n)==1:\n",
    "        return nuovo_n\n",
    "    else: \n",
    "        for el in nuovo_n:\n",
    "            sum+=int(el)\n",
    "        s=str(sum)\n",
    "        return(ricorsivo(s))\n",
    "            \n",
    "def superDigit(n, k):\n",
    "    result = ricorsivo(n)\n",
    "    result*=k\n",
    "    result = ricorsivo(result)\n",
    "    return result\n",
    "\n",
    "if __name__ == '__main__':\n",
    "    fptr = open(os.environ['OUTPUT_PATH'], 'w')\n",
    "\n",
    "    first_multiple_input = input().rstrip().split()\n",
    "\n",
    "    n = first_multiple_input[0]\n",
    "\n",
    "    k = int(first_multiple_input[1])\n",
    "\n",
    "    result = superDigit(n, k)\n",
    "\n",
    "    fptr.write(str(result) + '\\n')\n",
    "\n",
    "    fptr.close()\n"
   ]
  },
  {
   "cell_type": "code",
   "execution_count": null,
   "id": "db363051-5ff0-40c9-8aff-d89f67dc9d64",
   "metadata": {},
   "outputs": [],
   "source": [
    "#Insertion Sort - Part 1"
   ]
  },
  {
   "cell_type": "code",
   "execution_count": null,
   "id": "8eceb540-d2a4-4b4a-b63d-8c91cf17e21e",
   "metadata": {},
   "outputs": [],
   "source": [
    "#!/bin/python3\n",
    "\n",
    "import math\n",
    "import os\n",
    "import random\n",
    "import re\n",
    "import sys\n",
    "\n",
    "#\n",
    "# Complete the 'insertionSort1' function below.\n",
    "#\n",
    "# The function accepts following parameters:\n",
    "#  1. INTEGER n\n",
    "#  2. INTEGER_ARRAY arr\n",
    "#\n",
    "def stampa(arr):\n",
    "    for elemento in arr:\n",
    "        print(elemento, end=' ')\n",
    "    print()\n",
    "def insertionSort1(n, arr):\n",
    "    # Write your code here\n",
    "    indice = n-1\n",
    "    temp = arr[n-1]\n",
    "    continua=True\n",
    "    while continua:\n",
    "        if indice == 0:\n",
    "            arr[indice]=temp\n",
    "            stampa(arr)\n",
    "            continua=False\n",
    "        elif arr[indice-1] > temp:\n",
    "            arr[indice] = arr[indice-1]\n",
    "            stampa(arr)\n",
    "            indice -= 1\n",
    "        elif arr[indice-1] < temp:\n",
    "            arr[indice] = temp\n",
    "            stampa(arr)\n",
    "            continua=False\n",
    "        \n",
    "\n",
    "if __name__ == '__main__':\n",
    "    n = int(input().strip())\n",
    "\n",
    "    arr = list(map(int, input().rstrip().split()))\n",
    "\n",
    "    insertionSort1(n, arr)\n"
   ]
  },
  {
   "cell_type": "code",
   "execution_count": null,
   "id": "6d98bb2a-d20f-416f-89fb-86723589dacc",
   "metadata": {},
   "outputs": [],
   "source": [
    "#Insertion Sort - Part 2"
   ]
  },
  {
   "cell_type": "code",
   "execution_count": null,
   "id": "bac1733d-cf4a-449a-bbe5-08bc2fce6883",
   "metadata": {},
   "outputs": [],
   "source": [
    "#!/bin/python3\n",
    "\n",
    "import math\n",
    "import os\n",
    "import random\n",
    "import re\n",
    "import sys\n",
    "\n",
    "#\n",
    "# Complete the 'insertionSort2' function below.\n",
    "#\n",
    "# The function accepts following parameters:\n",
    "#  1. INTEGER n\n",
    "#  2. INTEGER_ARRAY arr\n",
    "#\n",
    "\n",
    "def insertionSort2(n, arr):\n",
    "    # Write your code here\n",
    "\n",
    "if __name__ == '__main__':\n",
    "    n = int(input().strip())\n",
    "\n",
    "    arr = list(map(int, input().rstrip().split()))\n",
    "\n",
    "    insertionSort2(n, arr)\n"
   ]
  }
 ],
 "metadata": {
  "kernelspec": {
   "display_name": "Python 3 (ipykernel)",
   "language": "python",
   "name": "python3"
  },
  "language_info": {
   "codemirror_mode": {
    "name": "ipython",
    "version": 3
   },
   "file_extension": ".py",
   "mimetype": "text/x-python",
   "name": "python",
   "nbconvert_exporter": "python",
   "pygments_lexer": "ipython3",
   "version": "3.9.12"
  }
 },
 "nbformat": 4,
 "nbformat_minor": 5
}
